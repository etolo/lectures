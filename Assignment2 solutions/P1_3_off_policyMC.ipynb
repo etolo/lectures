{
  "nbformat": 4,
  "nbformat_minor": 0,
  "metadata": {
    "colab": {
      "name": "Assignment2_P1_3_off_policyMC.ipynb",
      "version": "0.3.2",
      "provenance": []
    },
    "kernelspec": {
      "name": "python3",
      "display_name": "Python 3"
    }
  },
  "cells": [
    {
      "cell_type": "code",
      "metadata": {
        "id": "r9yOHrEJXs0o",
        "colab_type": "code",
        "colab": {}
      },
      "source": [
        "import numpy as np\n",
        "\n",
        "# Define global variables for the problem\n",
        "\n",
        "p_h = 0.55\n",
        "p_l = 0.45\n",
        "\n",
        "prize = 1000\n",
        "c_h = 50\n",
        "c_l = 10\n",
        "\n",
        "high = 0\n",
        "low = 1\n",
        "\n",
        "# number of actions\n",
        "n_actions = 2\n",
        "actions = [high, low]\n",
        "\n",
        "# two outcomes\n",
        "win = 0\n",
        "lose = 1\n",
        "\n",
        "n_outcomes = 2\n",
        "\n",
        "# number of rounds\n",
        "d = 3\n",
        "\n",
        "# states encoded as 0, 1, ..., 2d\n",
        "states = np.arange(0,2*d+1) \n",
        "n_states = len(states)"
      ],
      "execution_count": 0,
      "outputs": []
    },
    {
      "cell_type": "code",
      "metadata": {
        "id": "WZJ-ri_9X0mz",
        "colab_type": "code",
        "colab": {}
      },
      "source": [
        "class Game:\n",
        "    def __init__(self, init_state):\n",
        "        self.initial_state = init_state\n",
        "        self.state = self.initial_state\n",
        "        self.reward = 0.0\n",
        "        self.is_terminal = False\n",
        "\n",
        "    def outcome(self, action):\n",
        "        if action == high:\n",
        "            win = np.random.binomial(1, p_h)\n",
        "        else:\n",
        "            win = np.random.binomial(1, p_l)\n",
        "        return win\n",
        "\n",
        "    def step(self, action):\n",
        "        if action == high:\n",
        "            self.reward = -c_h\n",
        "        else:\n",
        "            self.reward = -c_l    \n",
        "      \n",
        "        is_won = self.outcome(action)\n",
        "        \n",
        "        if self.state == 2*d-1 and is_won:\n",
        "            self.state += 1\n",
        "            self.reward += prize\n",
        "            self.is_terminal = True\n",
        "        elif self.state == 1 and not is_won:\n",
        "            self.state -= 1\n",
        "            self.is_terminal = True\n",
        "        else:\n",
        "            if is_won:\n",
        "                self.state += 1\n",
        "            else:\n",
        "                self.state -= 1\n",
        "            self.is_terminal = False\n",
        "        return self.state, self.reward, self.is_terminal\n",
        "\n",
        "    def reset(self):\n",
        "        self.state = self.initial_state\n",
        "        self.reward = 0.0\n",
        "        self.is_terminal = False\n",
        "        return self.state\n",
        "\n",
        "\n",
        "def behavior_policy():\n",
        "    return np.random.binomial(1, 0.5)\n"
      ],
      "execution_count": 0,
      "outputs": []
    },
    {
      "cell_type": "code",
      "metadata": {
        "id": "CL5XBqtBX6q3",
        "colab_type": "code",
        "colab": {}
      },
      "source": [
        "init_state = d\n",
        "env = Game(init_state)\n",
        "episodes = 500000\n",
        "\n",
        "q_values = np.zeros((n_states, n_actions))\n",
        "c_values = np.zeros_like(q_values)\n",
        "\n",
        "target_policy = np.zeros(n_states)\n",
        "\n",
        "for state in states:\n",
        "  target_policy[state] = np.random.choice([action_ for action_, value_ in enumerate(q_values[state,:]) if value_ == np.max(q_values[state,:])])\n",
        "\n",
        "# No discount\n",
        "gamma = 1.0"
      ],
      "execution_count": 0,
      "outputs": []
    },
    {
      "cell_type": "code",
      "metadata": {
        "id": "hV3b_ILzX-yN",
        "colab_type": "code",
        "colab": {}
      },
      "source": [
        "for i in range(1, episodes + 1):\n",
        "  state = env.reset()\n",
        "  history = []\n",
        "  done = False\n",
        "  t = 0\n",
        "\n",
        "  while not done:\n",
        "      a = behavior_policy()\n",
        "      next_state, r, done = env.step(a)\n",
        "        \n",
        "      history.append([t, state, a, r])\n",
        "      state = next_state\n",
        "      t += 1\n",
        "\n",
        "  g = 0.0\n",
        "  w = 1.0\n",
        "  for t, state, action, reward in history[::-1]:\n",
        "      g = gamma * g + reward\n",
        "      c_values[state, action] += w\n",
        "      q_values[state, action] += w* (g - q_values[state, action]) / c_values[state, action]\n",
        "      target_policy[state] = np.random.choice([action_ for action_, value_ in enumerate(q_values[state,:]) if value_ == np.max(q_values[state,:])])\n",
        "      if target_policy[state] != action:\n",
        "          break\n",
        "      w *= 1.0 / 0.5\n",
        "     \n"
      ],
      "execution_count": 0,
      "outputs": []
    },
    {
      "cell_type": "code",
      "metadata": {
        "id": "RVqtk9BZaFYY",
        "colab_type": "code",
        "outputId": "061f0e0a-f1d8-4564-d4f5-43534c7273d3",
        "colab": {
          "base_uri": "https://localhost:8080/",
          "height": 102
        }
      },
      "source": [
        "print(q_values[1:2*d,:])"
      ],
      "execution_count": 0,
      "outputs": [
        {
          "output_type": "stream",
          "text": [
            "[[ 36.67129386  60.41652975]\n",
            " [137.8118823  165.30151148]\n",
            " [317.45841813 310.08430213]\n",
            " [552.28495921 545.06155618]\n",
            " [773.04028586 785.258022  ]]\n"
          ],
          "name": "stdout"
        }
      ]
    },
    {
      "cell_type": "code",
      "metadata": {
        "id": "YU1l01jQaXLF",
        "colab_type": "code",
        "outputId": "52873d07-39ed-4d80-e35e-2e1a91696765",
        "colab": {
          "base_uri": "https://localhost:8080/",
          "height": 34
        }
      },
      "source": [
        "print(target_policy[1:2*d])"
      ],
      "execution_count": 0,
      "outputs": [
        {
          "output_type": "stream",
          "text": [
            "[1. 1. 0. 0. 1.]\n"
          ],
          "name": "stdout"
        }
      ]
    },
    {
      "cell_type": "code",
      "metadata": {
        "id": "AhPolDCkavwZ",
        "colab_type": "code",
        "colab": {}
      },
      "source": [
        ""
      ],
      "execution_count": 0,
      "outputs": []
    }
  ]
}