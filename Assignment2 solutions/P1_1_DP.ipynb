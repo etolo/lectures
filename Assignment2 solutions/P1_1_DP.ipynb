{
  "nbformat": 4,
  "nbformat_minor": 0,
  "metadata": {
    "colab": {
      "name": "Assignment2_P1_1_DP.ipynb",
      "version": "0.3.2",
      "provenance": [],
      "collapsed_sections": []
    },
    "kernelspec": {
      "name": "python3",
      "display_name": "Python 3"
    }
  },
  "cells": [
    {
      "cell_type": "code",
      "metadata": {
        "id": "v2UlGrTxpDYW",
        "colab_type": "code",
        "colab": {}
      },
      "source": [
        "import numpy as np\n",
        "\n",
        "# define global variables for the problem\n",
        "p_h = 0.55\n",
        "p_l = 0.45\n",
        "\n",
        "prize = 1000\n",
        "c_h = 50\n",
        "c_l = 10\n",
        "\n",
        "high = 0\n",
        "low = 1\n",
        "\n",
        "# number of actions\n",
        "n_actions = 2\n",
        "actions = [high, low]\n",
        "\n",
        "# two outcomes\n",
        "win = 0\n",
        "lose = 1\n",
        "\n",
        "n_outcomes = 2\n",
        "\n",
        "# number of rounds\n",
        "d = 3\n",
        "\n",
        "# states encoded as 0, 1, ..., 2d\n",
        "states = np.arange(0,2*d+1) \n",
        "n_states = len(states)"
      ],
      "execution_count": 0,
      "outputs": []
    },
    {
      "cell_type": "code",
      "metadata": {
        "id": "uZaZWTL0pOoM",
        "colab_type": "code",
        "colab": {}
      },
      "source": [
        "# the env\n",
        "\n",
        "def game():\n",
        "    p = {}\n",
        "\n",
        "    for s in states:\n",
        "        p[s] = {a: [] for a in range(n_actions)}\n",
        "\n",
        "        is_terminal = lambda x: x == 0 or x == 2*d\n",
        "\n",
        "        for a in range(n_actions):\n",
        "            p[s][a] = {outcome: [] for outcome in range(n_outcomes)}\n",
        "\n",
        "            prob = p_h if a == high else p_l\n",
        "            cost = c_h if a == high else c_l\n",
        "\n",
        "            if is_terminal(s):\n",
        "                p[s][a][win] = [(1.0, s, 0.0, True)]\n",
        "                p[s][a][lose] = [(1.0, s, 0.0, True)]\n",
        "\n",
        "            else:\n",
        "                s_win = s + 1\n",
        "                s_loss = s - 1\n",
        "                \n",
        "                if is_terminal(s_win):\n",
        "                  p[s][a][win] = [(prob, s_win, prize-cost, is_terminal(s_win))]\n",
        "                else:\n",
        "                  p[s][a][win] = [(prob, s_win, -cost, is_terminal(s_win))]                  \n",
        "                p[s][a][lose] = [(prob, s_loss, -cost, is_terminal(s_loss))]   \n",
        "    return p"
      ],
      "execution_count": 0,
      "outputs": []
    },
    {
      "cell_type": "code",
      "metadata": {
        "id": "Z_xslk74pTyZ",
        "colab_type": "code",
        "colab": {}
      },
      "source": [
        "# Initial state values - 0s\n",
        "state_values_init = np.zeros(n_states)\n",
        "\n",
        "pi_a = np.zeros((n_states,n_actions))\n",
        "\n",
        "# Assume a random policy\n",
        "#pi_a = 0.5*np.ones((n_states,n_actions))\n",
        "\n",
        "def policy(x):\n",
        "  pi_a = np.zeros((n_states,n_actions))\n",
        "  for i in range(len(x)):\n",
        "    pi_a[i+1, x[i]] = 1.0\n",
        "  return pi_a\n",
        "\n",
        "pi_a = policy([low, high, high, high, high])\n",
        "\n",
        "# Undiscounted\n",
        "gamma = 1.0\n",
        "theta = 1e-4"
      ],
      "execution_count": 0,
      "outputs": []
    },
    {
      "cell_type": "code",
      "metadata": {
        "id": "0bG1ReVIpfbZ",
        "colab_type": "code",
        "colab": {}
      },
      "source": [
        "# Get values\n",
        "\n",
        "def get_values(pi_a, state_values_init):\n",
        "  state_values = state_values_init\n",
        "  transition_probs = game()\n",
        "  #iteration_counter = 1\n",
        "  while True:\n",
        "    v_old = np.copy(state_values)\n",
        "    delta = 0.0\n",
        "    for s in range(1,n_states-1):\n",
        "      v_s = 0.0\n",
        "      for a in range(n_actions):\n",
        "        for outcome in range(n_outcomes):\n",
        "          current_entry = transition_probs[s][a][outcome][0]\n",
        "          p_sa = current_entry[0]\n",
        "          next_s = current_entry[1]\n",
        "          r = current_entry[2]\n",
        "          v_s += pi_a[s,a] * p_sa * (r + gamma * v_old[next_s])\n",
        "          \n",
        "      state_values[s] = v_s\n",
        "      delta = np.maximum(delta, np.abs(state_values[s] - v_old[s]))\n",
        "    #print('After %s iteration(s):\\n' % iteration_counter, state_values[1:2*d])\n",
        "    #print('delta = %s:\\n' % delta)\n",
        "    #iteration_counter += 1\n",
        "    if delta < theta:\n",
        "      break\n",
        "  return state_values[1:2*d]"
      ],
      "execution_count": 0,
      "outputs": []
    },
    {
      "cell_type": "code",
      "metadata": {
        "id": "XK7S1q8aNZmT",
        "colab_type": "code",
        "outputId": "eb3e4ce8-1e9a-441b-e13f-90eae539fbd2",
        "colab": {
          "base_uri": "https://localhost:8080/",
          "height": 34
        }
      },
      "source": [
        "values = get_values(pi_a, state_values_init)\n",
        "print(values)"
      ],
      "execution_count": 0,
      "outputs": [
        {
          "output_type": "stream",
          "text": [
            "[100.25208672 242.78249907 441.17057127 659.34598858 857.64024305]\n"
          ],
          "name": "stdout"
        }
      ]
    },
    {
      "cell_type": "code",
      "metadata": {
        "id": "BH6T9TL0dXP6",
        "colab_type": "code",
        "outputId": "19db1157-0858-44da-b23b-c52c066a6ac8",
        "colab": {
          "base_uri": "https://localhost:8080/",
          "height": 561
        }
      },
      "source": [
        "import itertools\n",
        "lst = list(itertools.product([0, 1], repeat=2*d-1))\n",
        "\n",
        "dtype = [('pol', 'S10'), ('val', float)]\n",
        "pol_val = np.zeros(32, dtype=dtype)\n",
        "\n",
        "j = 0\n",
        "\n",
        "for l in lst[::-1]:\n",
        "  pol = ''.join(str(e) for e in l)\n",
        "  l = np.asarray(l)\n",
        "  pi_a = policy(l)\n",
        "  values = get_values(pi_a, state_values_init)\n",
        "  print(pol, values)\n",
        "  s = pol_val[j]\n",
        "  s['pol'] = pol\n",
        "  s['val'] = values[d-1]\n",
        "  j += 1"
      ],
      "execution_count": 0,
      "outputs": [
        {
          "output_type": "stream",
          "text": [
            "11111 [ 30.34619801  87.43592971 183.9557189  341.35442501 594.60952089]\n",
            "11110 [ 42.97191118 115.4932154  233.67967859 423.79512744 728.08727128]\n",
            "11101 [ 41.94124104 113.20269343 229.62039186 417.06469263 628.67915082]\n",
            "11100 [ 63.98155711 162.18123801 316.42132436 560.97726057 803.53749332]\n",
            "11011 [ 28.25692759  82.79309549 175.72766207 336.71159079 592.52025047]\n",
            "11010 [ 48.55268945 127.89494402 255.65829726 436.93848834 735.31612126]\n",
            "11001 [ 48.14372618 126.98599167 254.04748006 434.91836287 636.71330296]\n",
            "11000 [ 90.08717301 220.19371779 419.23232676 642.04687631 848.12578197]\n",
            "10111 [  4.0693834   29.04297776 148.73593711 321.481159   585.66655371]\n",
            "10110 [ 23.03674086  71.19275747 206.40476593 407.48450015 719.11647508]\n",
            "10101 [ 19.8413948   64.09189181 196.68943412 392.99554629 617.84803932]\n",
            "10100 [ 54.2712817  140.60284823 301.37040058 549.10915306 797.01003418]\n",
            "10011 [ -8.44775621   1.22711186 110.67880002 300.00690061 576.00313805]\n",
            "10010 [ 25.31949326  76.26562243 213.34527479 411.63502602 721.39922748]\n",
            "10001 [ 19.35267056  63.00584696 195.20353801 391.90950144 617.35931508]\n",
            "10000 [100.25195185 242.78219777 441.17022592 659.34565865 857.64006254]\n",
            "01111 [-26.07733718  52.58657425 162.93628698 329.49390163 589.27229014]\n",
            "01110 [ -9.41266368  82.88614812 213.60410394 411.7898026  721.48434628]\n",
            "01101 [-11.78037634  78.5810552  206.4050542  400.09666805 621.04354393]\n",
            "01100 [ 17.39487272 131.62704132 295.10978556 544.17248215 794.29486518]\n",
            "01011 [-33.18138626  39.67011641 141.33710975 317.30627386 583.78786038]\n",
            "01010 [ -6.07977875  88.94595317 223.73745247 417.84960766 724.81723122]\n",
            "01001 [ -9.49754794  82.73165658 213.34579601 405.1696253  623.32637233]\n",
            "01000 [ 47.29200405 185.98552917 386.00917187 615.84948683 833.71716782]\n",
            "00111 [-74.66770026 -35.75953199 109.65020916 299.42653586 575.74196392]\n",
            "00110 [-48.61704555  11.60537173 169.71788899 385.54549269 707.05002098]\n",
            "00101 [-56.18444473  -2.15363492 152.26885863 360.52868863 603.23794977]\n",
            "00100 [ -8.45068298  84.63521935 262.33289999 518.32697562 780.07978297]\n",
            "00011 [-107.93342642  -96.24268686   32.94663039  256.14549399  556.26550103]\n",
            "00010 [-60.09837879  -9.26968021 143.24441477 369.71424375 698.34279356]\n",
            "00001 [-83.00725297 -50.92236956  90.42123823 315.32444594 582.89603825]\n",
            "00000 [ 38.30177218 169.63968037 370.13401031 603.33143665 826.83223813]\n"
          ],
          "name": "stdout"
        }
      ]
    },
    {
      "cell_type": "code",
      "metadata": {
        "id": "i1X05rN7Qvdj",
        "colab_type": "code",
        "outputId": "4e22aadd-b37e-4116-9d0b-44e40cb1ae71",
        "colab": {
          "base_uri": "https://localhost:8080/",
          "height": 289
        }
      },
      "source": [
        "print(pol_val)"
      ],
      "execution_count": 0,
      "outputs": [
        {
          "output_type": "stream",
          "text": [
            "[(b'11111', 183.9557189 ) (b'11110', 233.67967859)\n",
            " (b'11101', 229.62039186) (b'11100', 316.42132436)\n",
            " (b'11011', 175.72766207) (b'11010', 255.65829726)\n",
            " (b'11001', 254.04748006) (b'11000', 419.23232676)\n",
            " (b'10111', 148.73593711) (b'10110', 206.40476593)\n",
            " (b'10101', 196.68943412) (b'10100', 301.37040058)\n",
            " (b'10011', 110.67880002) (b'10010', 213.34527479)\n",
            " (b'10001', 195.20353801) (b'10000', 441.17022592)\n",
            " (b'01111', 162.93628698) (b'01110', 213.60410394)\n",
            " (b'01101', 206.4050542 ) (b'01100', 295.10978556)\n",
            " (b'01011', 141.33710975) (b'01010', 223.73745247)\n",
            " (b'01001', 213.34579601) (b'01000', 386.00917187)\n",
            " (b'00111', 109.65020916) (b'00110', 169.71788899)\n",
            " (b'00101', 152.26885863) (b'00100', 262.33289999)\n",
            " (b'00011',  32.94663039) (b'00010', 143.24441477)\n",
            " (b'00001',  90.42123823) (b'00000', 370.13401031)]\n"
          ],
          "name": "stdout"
        }
      ]
    },
    {
      "cell_type": "code",
      "metadata": {
        "id": "BzD4nrxXVaqG",
        "colab_type": "code",
        "outputId": "06736b2b-263b-4808-d3d1-4f665c59a8fe",
        "colab": {
          "base_uri": "https://localhost:8080/",
          "height": 306
        }
      },
      "source": [
        "np.sort(pol_val, order=['val']) "
      ],
      "execution_count": 0,
      "outputs": [
        {
          "output_type": "execute_result",
          "data": {
            "text/plain": [
              "array([(b'00011',  32.94663039), (b'00001',  90.42123823),\n",
              "       (b'00111', 109.65020916), (b'10011', 110.67880002),\n",
              "       (b'01011', 141.33710975), (b'00010', 143.24441477),\n",
              "       (b'10111', 148.73593711), (b'00101', 152.26885863),\n",
              "       (b'01111', 162.93628698), (b'00110', 169.71788899),\n",
              "       (b'11011', 175.72766207), (b'11111', 183.9557189 ),\n",
              "       (b'10001', 195.20353801), (b'10101', 196.68943412),\n",
              "       (b'10110', 206.40476593), (b'01101', 206.4050542 ),\n",
              "       (b'10010', 213.34527479), (b'01001', 213.34579601),\n",
              "       (b'01110', 213.60410394), (b'01010', 223.73745247),\n",
              "       (b'11101', 229.62039186), (b'11110', 233.67967859),\n",
              "       (b'11001', 254.04748006), (b'11010', 255.65829726),\n",
              "       (b'00100', 262.33289999), (b'01100', 295.10978556),\n",
              "       (b'10100', 301.37040058), (b'11100', 316.42132436),\n",
              "       (b'00000', 370.13401031), (b'01000', 386.00917187),\n",
              "       (b'11000', 419.23232676), (b'10000', 441.17022592)],\n",
              "      dtype=[('pol', 'S10'), ('val', '<f8')])"
            ]
          },
          "metadata": {
            "tags": []
          },
          "execution_count": 36
        }
      ]
    },
    {
      "cell_type": "code",
      "metadata": {
        "id": "9g5lxh-qXqcP",
        "colab_type": "code",
        "colab": {}
      },
      "source": [
        ""
      ],
      "execution_count": 0,
      "outputs": []
    }
  ]
}