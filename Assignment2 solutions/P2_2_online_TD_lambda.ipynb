{
  "nbformat": 4,
  "nbformat_minor": 0,
  "metadata": {
    "colab": {
      "name": "Assignment2_P2_2_online-TD-lambda.ipynb",
      "version": "0.3.2",
      "provenance": []
    },
    "kernelspec": {
      "name": "python3",
      "display_name": "Python 3"
    }
  },
  "cells": [
    {
      "cell_type": "code",
      "metadata": {
        "id": "f5zI3O1jxule",
        "colab_type": "code",
        "colab": {}
      },
      "source": [
        "import numpy as np\n",
        "import matplotlib.pyplot as plt\n",
        "\n",
        "\n",
        "p_h = 0.55\n",
        "p_l = 0.45\n",
        "c_l = 10.0\n",
        "c_h = 50.0\n",
        "prize = 1000.0\n",
        "\n",
        "high = 0\n",
        "low = 1\n",
        "\n",
        "actions = [high, low]\n",
        "\n",
        "# number of actions\n",
        "n_actions = 2\n",
        "\n",
        "# two outcomes\n",
        "win = 0\n",
        "lose = 1\n",
        "\n",
        "n_outcomes = 2\n",
        "\n",
        "# number of rounds\n",
        "d = 3\n",
        "\n",
        "# states encoded as 0, 1, ..., 2d\n",
        "states = np.arange(0,2*d+1) \n",
        "n_states = len(states)\n",
        "\n",
        "\n",
        "class Game:\n",
        "    def __init__(self, init_state):\n",
        "        self.initial_state = init_state\n",
        "        self.state = self.initial_state\n",
        "        self.reward = 0.0\n",
        "        self.is_terminal = False\n",
        "\n",
        "    def outcome(self, action):\n",
        "        if action == high:\n",
        "            return np.random.binomial(1, p_h)\n",
        "        else:\n",
        "            return np.random.binomial(1, p_l)\n",
        "\n",
        "    def step(self, action):\n",
        "        if action == high:\n",
        "            self.reward = -c_h\n",
        "        else:\n",
        "            self.reward = -c_l    \n",
        "      \n",
        "        is_won = self.outcome(action)\n",
        "        \n",
        "        if self.state == 2*d-1 and is_won == 1:\n",
        "            self.state += 1\n",
        "            self.reward += prize\n",
        "            self.is_terminal = True\n",
        "        elif self.state == 1 and is_won != 1:\n",
        "            self.state -= 1\n",
        "            self.is_terminal = True\n",
        "        else:\n",
        "            if is_won:\n",
        "                self.state += 1\n",
        "            else:\n",
        "                self.state -= 1\n",
        "            self.is_terminal = False\n",
        "        return self.state, self.reward, self.is_terminal\n",
        "      \n",
        "    def reset(self):\n",
        "        self.state = self.initial_state\n",
        "        self.reward = 0.0\n",
        "        self.is_terminal = False\n",
        "        return self.state\n",
        "\n",
        "\n",
        "def eps_greedy_policy(qsa, epsilon=0.1):\n",
        "    if np.random.binomial(1, epsilon) == 1:\n",
        "        return np.random.choice(actions)\n",
        "    else:\n",
        "        return np.random.choice([action_ for action_, value_ in enumerate(qsa) if value_ == np.max(qsa)])\n",
        "\n",
        "\n",
        "def random_policy():\n",
        "    if np.random.binomial(1, 0.5) == 1:\n",
        "      return high\n",
        "    else:\n",
        "      return low"
      ],
      "execution_count": 0,
      "outputs": []
    },
    {
      "cell_type": "code",
      "metadata": {
        "id": "pV73joTPx4XB",
        "colab_type": "code",
        "colab": {}
      },
      "source": [
        "init_state = d\n",
        "env = Game(init_state)\n",
        "episodes = 500000\n",
        "\n",
        "values = np.zeros(n_states)\n",
        "eligibility = np.zeros_like(values)\n",
        "\n",
        "#\n",
        "# Hyperparameter setting\n",
        "#\n",
        "lam = 0.9 # param for sarsa(lambda)\n",
        "gamma = 1.0 # discount factor \n",
        "alpha = 0.0001 # step size"
      ],
      "execution_count": 0,
      "outputs": []
    },
    {
      "cell_type": "code",
      "metadata": {
        "id": "OwDpfWyKyD17",
        "colab_type": "code",
        "colab": {}
      },
      "source": [
        "for e in range(episodes):\n",
        "    state = env.reset()\n",
        "    done = False\n",
        "\n",
        "    while not done:\n",
        "        a = random_policy()\n",
        "        next_state, r, done = env.step(a)\n",
        "\n",
        "        delta = r + gamma * values[next_state] - values[state]\n",
        "        eligibility[state] += 1\n",
        "\n",
        "        for s in range(1,2*d):\n",
        "            values[s] += alpha * delta * eligibility[s]\n",
        "            eligibility[s] = lam * gamma * eligibility[s]\n",
        "\n",
        "        state = next_state"
      ],
      "execution_count": 0,
      "outputs": []
    },
    {
      "cell_type": "code",
      "metadata": {
        "id": "YjXY_sXUyOJH",
        "colab_type": "code",
        "outputId": "16ec1eb9-6864-410d-eb23-5c090b9d8cb3",
        "colab": {
          "base_uri": "https://localhost:8080/",
          "height": 54
        }
      },
      "source": [
        "print('Value function found by on-line TD(lambda):\\n', values[1:2*d])"
      ],
      "execution_count": 0,
      "outputs": [
        {
          "output_type": "stream",
          "text": [
            "Value function found by on-line TD(lambda):\n",
            " [ 17.22770893  92.30665632 230.14413728 425.89006091 678.91628238]\n"
          ],
          "name": "stdout"
        }
      ]
    },
    {
      "cell_type": "code",
      "metadata": {
        "id": "9lEwCYvoP3ch",
        "colab_type": "code",
        "colab": {}
      },
      "source": [
        ""
      ],
      "execution_count": 0,
      "outputs": []
    },
    {
      "cell_type": "code",
      "metadata": {
        "id": "cigWl--3g_hL",
        "colab_type": "code",
        "colab": {}
      },
      "source": [
        ""
      ],
      "execution_count": 0,
      "outputs": []
    }
  ]
}