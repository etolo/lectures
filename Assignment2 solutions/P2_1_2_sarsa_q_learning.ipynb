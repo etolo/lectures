{
  "nbformat": 4,
  "nbformat_minor": 0,
  "metadata": {
    "colab": {
      "name": "Assignment2_P2_1_sarsa-q_learning.ipynb",
      "version": "0.3.2",
      "provenance": [],
      "collapsed_sections": []
    },
    "kernelspec": {
      "name": "python3",
      "display_name": "Python 3"
    }
  },
  "cells": [
    {
      "cell_type": "code",
      "metadata": {
        "id": "fSb4AW1Pt9nC",
        "colab_type": "code",
        "colab": {}
      },
      "source": [
        "import numpy as np\n",
        "import matplotlib.pyplot as plt\n",
        "\n",
        "\n",
        "# Define global variables for the problem\n",
        "p_h = 0.55\n",
        "p_l = 0.45\n",
        "c_l = 10\n",
        "c_h = 50\n",
        "prize = 1000\n",
        "\n",
        "high = 0\n",
        "low = 1\n",
        "\n",
        "# number of actions\n",
        "n_actions = 2\n",
        "actions = [high, low]\n",
        "\n",
        "# two outcomes\n",
        "win = 0\n",
        "lose = 1\n",
        "\n",
        "n_outcomes = 2\n",
        "\n",
        "# number of rounds\n",
        "d = 3\n",
        "\n",
        "# states encoded as 0, 1, ..., 2d\n",
        "states = np.arange(0,2*d+1) \n",
        "n_states = len(states)\n",
        "\n",
        "class Game:\n",
        "    def __init__(self, init_state):\n",
        "        self.initial_state = init_state\n",
        "        self.state = self.initial_state\n",
        "        self.reward = 0.0\n",
        "        self.is_terminal = False\n",
        "\n",
        "    def outcome(self, action):\n",
        "        if action == high:\n",
        "            is_won = np.random.binomial(1, p_h)\n",
        "        else:\n",
        "            is_won = np.random.binomial(1, p_l)\n",
        "        return is_won\n",
        "\n",
        "    def step(self, action):\n",
        "        if action == high:\n",
        "            self.reward = -c_h\n",
        "        else:\n",
        "            self.reward = -c_l    \n",
        "      \n",
        "        is_won = self.outcome(action)\n",
        "        \n",
        "        if self.state == 2*d-1 and is_won:\n",
        "            self.state += 1\n",
        "            self.reward += prize\n",
        "            self.is_terminal = True\n",
        "        elif self.state == 1 and not is_won:\n",
        "            self.state -= 1\n",
        "            self.is_terminal = True\n",
        "        else:\n",
        "            if is_won:\n",
        "                self.state += 1\n",
        "            else:\n",
        "                self.state -= 1\n",
        "            self.is_terminal = False\n",
        "        return self.state, self.reward, self.is_terminal\n",
        "\n",
        "    def reset(self):\n",
        "        self.state = self.initial_state\n",
        "        self.reward = 0.0\n",
        "        self.is_terminal = False\n",
        "        return self.state\n",
        "\n",
        "\n",
        "def eps_greedy_policy(qsa, epsilon=0.1):\n",
        "    if np.random.binomial(1, epsilon) == 1:\n",
        "        return np.random.choice(actions)\n",
        "    else:\n",
        "        return np.random.choice([action_ for action_, value_ in enumerate(qsa) if value_ == np.max(qsa)])\n",
        "\n",
        "\n",
        "def q_learning(qsa, next_qs, r, alpha=0.1, gamma=1.0):\n",
        "    return qsa + alpha * (r + gamma * np.max(next_qs) - qsa)\n",
        "\n",
        "\n",
        "def sarsa(qsa, next_qsa, r, alpha=0.1, gamma=1.0):\n",
        "    return qsa + alpha * (r + gamma * next_qsa - qsa)\n",
        "  \n",
        "  \n",
        "def plot_rewards(r_sarsa, r_qlearning):\n",
        "    plt.figure(figsize=(9, 4))\n",
        "  \n",
        "    ax = plt.subplot(121)\n",
        "    plt.plot(r_qlearning)\n",
        "    plt.title('Q-learning')\n",
        "    plt.xlabel('Episodes')\n",
        "    plt.ylabel('Sum of rewards during episodes')\n",
        "\n",
        "    ax = plt.subplot(122)\n",
        "    plt.plot(r_sarsa)\n",
        "    plt.title('Sarsa')\n",
        "    plt.xlabel('Episodes')\n",
        "    plt.ylabel('Sum of rewards during episodes')\n",
        "    plt.show()\n",
        "    "
      ],
      "execution_count": 0,
      "outputs": []
    },
    {
      "cell_type": "code",
      "metadata": {
        "id": "RHFkWgg9uFmV",
        "colab_type": "code",
        "colab": {}
      },
      "source": [
        "init_state = d\n",
        "env = Game(init_state)\n",
        "env_sarsa = Game(init_state)\n",
        "episodes = 500000\n",
        "\n",
        "rewards_sarsa = np.zeros(episodes)\n",
        "rewards_qlearning = np.zeros_like(rewards_sarsa)\n",
        "runs = 1"
      ],
      "execution_count": 0,
      "outputs": []
    },
    {
      "cell_type": "code",
      "metadata": {
        "id": "B5uOLNVjuShD",
        "colab_type": "code",
        "colab": {}
      },
      "source": [
        "for r in range(runs):\n",
        "    q_values = np.zeros((n_states, n_actions))\n",
        "    q_sarsa = np.zeros_like(q_values)\n",
        "    \n",
        "    for e in range(episodes):\n",
        "        state = env.reset()\n",
        "        state_sarsa = env_sarsa.reset()\n",
        "        done = False\n",
        "        done_sarsa = False\n",
        "        a_sarsa = eps_greedy_policy(q_sarsa[state_sarsa, :])\n",
        "        g = 0.0\n",
        "        g_sarsa = 0.0\n",
        "\n",
        "        while not done:\n",
        "            a = eps_greedy_policy(q_values[state, :])\n",
        "            next_state, r, done = env.step(a)\n",
        "            g += r\n",
        "            q_values[state, a] = q_learning(q_values[state, a], q_values[next_state, :], r)\n",
        "            state = next_state\n",
        "\n",
        "        while not done_sarsa:\n",
        "            next_state_sarsa, r_sarsa, done_sarsa = env_sarsa.step(a_sarsa)\n",
        "            next_a = eps_greedy_policy(q_sarsa[next_state_sarsa, :])\n",
        "            g_sarsa += r_sarsa\n",
        "            q_sarsa[state_sarsa, a_sarsa] = sarsa(q_sarsa[state_sarsa, a_sarsa], q_sarsa[next_state_sarsa, next_a], r_sarsa)\n",
        "            state_sarsa = next_state_sarsa\n",
        "            a_sarsa = next_a\n",
        "\n",
        "        rewards_sarsa[e] += g_sarsa\n",
        "        rewards_qlearning[e] += g"
      ],
      "execution_count": 0,
      "outputs": []
    },
    {
      "cell_type": "code",
      "metadata": {
        "id": "ZJKGPxTquii5",
        "colab_type": "code",
        "outputId": "9d427168-6043-4e80-b9a5-1c7b39026bf4",
        "colab": {
          "base_uri": "https://localhost:8080/",
          "height": 187
        }
      },
      "source": [
        "q_optimal_policy = np.argmax(q_values, axis=1)\n",
        "print('Values found by Q-learning:\\n', q_values)\n",
        "print('Optimal policy found by Q-learning:\\n', q_optimal_policy[1:2*d])"
      ],
      "execution_count": 0,
      "outputs": [
        {
          "output_type": "stream",
          "text": [
            "Values found by Q-learning:\n",
            " [[  0.           0.        ]\n",
            " [ -2.18407769  20.87325583]\n",
            " [124.86018719 127.16786423]\n",
            " [252.52007443 320.75987089]\n",
            " [495.14654219 363.29311447]\n",
            " [674.25331492 730.51882365]\n",
            " [  0.           0.        ]]\n",
            "Optimal policy found by Q-learning:\n",
            " [1 1 1 0 1]\n"
          ],
          "name": "stdout"
        }
      ]
    },
    {
      "cell_type": "code",
      "metadata": {
        "id": "yo4sowntuvaQ",
        "colab_type": "code",
        "outputId": "e8bbf7f8-67db-45f1-c0d3-dccec3bfda1d",
        "colab": {
          "base_uri": "https://localhost:8080/",
          "height": 187
        }
      },
      "source": [
        "sarsa_optimal_policy = np.argmax(q_sarsa, axis=1)\n",
        "print('Values found by SARSA:\\n', q_sarsa)\n",
        "print('Optimal policy found by Q-learning:\\n', sarsa_optimal_policy[1:2*d])"
      ],
      "execution_count": 0,
      "outputs": [
        {
          "output_type": "stream",
          "text": [
            "Values found by Q-learning:\n",
            " [[  0.           0.        ]\n",
            " [ -9.14246617   7.75118176]\n",
            " [ 46.51310168  68.62658103]\n",
            " [112.06060784 170.62011208]\n",
            " [303.98160025 331.59042815]\n",
            " [687.7901223  540.70394513]\n",
            " [  0.           0.        ]]\n",
            "Optimal policy found by Q-learning:\n",
            " [1 1 1 1 0]\n"
          ],
          "name": "stdout"
        }
      ]
    },
    {
      "cell_type": "code",
      "metadata": {
        "id": "vXtQqiKGvAZg",
        "colab_type": "code",
        "outputId": "5dcd9c91-641c-439f-d586-6eadd9e6cfb6",
        "colab": {
          "base_uri": "https://localhost:8080/",
          "height": 294
        }
      },
      "source": [
        "rewards_sarsa /= runs\n",
        "rewards_qlearning /= runs\n",
        "plot_rewards(rewards_sarsa, rewards_qlearning)"
      ],
      "execution_count": 0,
      "outputs": [
        {
          "output_type": "display_data",
          "data": {
            "image/png": "[encoded data removed]",
            "text/plain": [
              "<Figure size 648x288 with 2 Axes>"
            ]
          },
          "metadata": {
            "tags": []
          }
        }
      ]
    }
  ]
}